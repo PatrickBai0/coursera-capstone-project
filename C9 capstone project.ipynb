{
    "cells": [
        {
            "cell_type": "markdown",
            "metadata": {
                "collapsed": true
            },
            "source": "<h1 align='center'>Notebook of Capstone Project</h1>"
        },
        {
            "cell_type": "markdown",
            "metadata": {},
            "source": "<img src='https://ss1.bdstatic.com/70cFvXSh_Q1YnxGkpoWK1HF6hhy/it/u=919747874,3880367901&fm=26&gp=0.jpg' />"
        },
        {
            "cell_type": "markdown",
            "metadata": {},
            "source": "<h3><li>This notebook will be mainly used for the capstone project.</h3>"
        },
        {
            "cell_type": "code",
            "execution_count": 3,
            "metadata": {},
            "outputs": [
                {
                    "name": "stdout",
                    "output_type": "stream",
                    "text": "Hello Capstone Project Course!\n"
                }
            ],
            "source": "import pandas as np\nimport numpy as np\n\nprint('Hello Capstone Project Course!')"
        },
        {
            "cell_type": "code",
            "execution_count": null,
            "metadata": {},
            "outputs": [],
            "source": ""
        }
    ],
    "metadata": {
        "kernelspec": {
            "display_name": "Python 3.6",
            "language": "python",
            "name": "python3"
        },
        "language_info": {
            "codemirror_mode": {
                "name": "ipython",
                "version": 3
            },
            "file_extension": ".py",
            "mimetype": "text/x-python",
            "name": "python",
            "nbconvert_exporter": "python",
            "pygments_lexer": "ipython3",
            "version": "3.6.9"
        }
    },
    "nbformat": 4,
    "nbformat_minor": 1
}